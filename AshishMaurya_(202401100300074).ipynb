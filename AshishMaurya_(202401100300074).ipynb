{
  "nbformat": 4,
  "nbformat_minor": 0,
  "metadata": {
    "colab": {
      "provenance": []
    },
    "kernelspec": {
      "name": "python3",
      "display_name": "Python 3"
    },
    "language_info": {
      "name": "python"
    }
  },
  "cells": [
    {
      "cell_type": "code",
      "execution_count": null,
      "metadata": {
        "colab": {
          "base_uri": "https://localhost:8080/"
        },
        "id": "ThmahbGkiMEP",
        "outputId": "a0b15531-2221-4e00-9738-e0c81c08053e"
      },
      "outputs": [
        {
          "output_type": "stream",
          "name": "stdout",
          "text": [
            "Think of a number between 1 and 100, and I'll try to guess it!\n",
            "Is your number 50? (Enter 'h' if it's higher, 'l' if it's lower, 'c' if correct)\n",
            "6\n",
            "Invalid input. Please enter 'h', 'l', or 'c'.\n",
            "Is your number 50? (Enter 'h' if it's higher, 'l' if it's lower, 'c' if correct)\n",
            "u\n",
            "Invalid input. Please enter 'h', 'l', or 'c'.\n",
            "Is your number 50? (Enter 'h' if it's higher, 'l' if it's lower, 'c' if correct)\n",
            "45\n",
            "Invalid input. Please enter 'h', 'l', or 'c'.\n",
            "Is your number 50? (Enter 'h' if it's higher, 'l' if it's lower, 'c' if correct)\n",
            "h\n",
            "Is your number 75? (Enter 'h' if it's higher, 'l' if it's lower, 'c' if correct)\n"
          ]
        }
      ],
      "source": [
        "\n",
        "   import random\n",
        "\n",
        "def ai_guess_number():\n",
        "    print(\"Think of a number between 1 and 100, and I'll try to guess it!\")\n",
        "    low, high = 1, 100\n",
        "    attempts = 0\n",
        "\n",
        "    while low <= high:\n",
        "        guess = (low + high) // 2\n",
        "        attempts += 1\n",
        "\n",
        "        print(f\"Is your number {guess}? (Enter 'h' if it's higher, 'l' if it's lower, 'c' if correct)\")\n",
        "        feedback = input().lower()\n",
        "\n",
        "        if feedback == 'c':\n",
        "            print(f\"Yay! I guessed your number {guess} in {attempts} attempts!\")\n",
        "            break\n",
        "        elif feedback == 'h':\n",
        "            low = guess + 1\n",
        "        elif feedback == 'l':\n",
        "            high = guess - 1\n",
        "        else:\n",
        "            print(\"Invalid input. Please enter 'h', 'l', or 'c'.\")\n",
        "\n",
        "if __name__ == \"__main__\":\n",
        "    ai_guess_number()\n"
      ]
    }
  ]
}